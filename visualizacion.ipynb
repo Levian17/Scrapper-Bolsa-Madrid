{
 "cells": [
  {
   "cell_type": "code",
   "execution_count": 6,
   "metadata": {},
   "outputs": [],
   "source": [
    "import pandas as pd # type: ignore"
   ]
  },
  {
   "cell_type": "code",
   "execution_count": 13,
   "metadata": {},
   "outputs": [
    {
     "data": {
      "text/html": [
       "<div>\n",
       "<style scoped>\n",
       "    .dataframe tbody tr th:only-of-type {\n",
       "        vertical-align: middle;\n",
       "    }\n",
       "\n",
       "    .dataframe tbody tr th {\n",
       "        vertical-align: top;\n",
       "    }\n",
       "\n",
       "    .dataframe thead th {\n",
       "        text-align: right;\n",
       "    }\n",
       "</style>\n",
       "<table border=\"1\" class=\"dataframe\">\n",
       "  <thead>\n",
       "    <tr style=\"text-align: right;\">\n",
       "      <th></th>\n",
       "      <th>Abreviatura</th>\n",
       "      <th>Nombre Empresa</th>\n",
       "      <th>Valor Total</th>\n",
       "      <th>Precio Stock</th>\n",
       "      <th>Delta Valor</th>\n",
       "    </tr>\n",
       "  </thead>\n",
       "  <tbody>\n",
       "    <tr>\n",
       "      <th>0</th>\n",
       "      <td>ITX</td>\n",
       "      <td>Industria de Diseño Textil, S.A.</td>\n",
       "      <td>173.87B</td>\n",
       "      <td>55.82</td>\n",
       "      <td>0.07%</td>\n",
       "    </tr>\n",
       "    <tr>\n",
       "      <th>1</th>\n",
       "      <td>AIR</td>\n",
       "      <td>Airbus SE</td>\n",
       "      <td>122.65B</td>\n",
       "      <td>155.58</td>\n",
       "      <td>-0.08%</td>\n",
       "    </tr>\n",
       "    <tr>\n",
       "      <th>2</th>\n",
       "      <td>IBE</td>\n",
       "      <td>Iberdrola, S.A.</td>\n",
       "      <td>83.06B</td>\n",
       "      <td>13.45</td>\n",
       "      <td>-0.48%</td>\n",
       "    </tr>\n",
       "    <tr>\n",
       "      <th>3</th>\n",
       "      <td>SAN</td>\n",
       "      <td>Banco Santander, S.A.</td>\n",
       "      <td>70.46B</td>\n",
       "      <td>4.64</td>\n",
       "      <td>-0.79%</td>\n",
       "    </tr>\n",
       "    <tr>\n",
       "      <th>4</th>\n",
       "      <td>BBVA</td>\n",
       "      <td>Banco Bilbao Vizcaya Argentaria, S.A.</td>\n",
       "      <td>55.06B</td>\n",
       "      <td>9.55</td>\n",
       "      <td>-0.81%</td>\n",
       "    </tr>\n",
       "  </tbody>\n",
       "</table>\n",
       "</div>"
      ],
      "text/plain": [
       "  Abreviatura                         Nombre Empresa Valor Total  \\\n",
       "0         ITX       Industria de Diseño Textil, S.A.     173.87B   \n",
       "1         AIR                              Airbus SE     122.65B   \n",
       "2         IBE                        Iberdrola, S.A.      83.06B   \n",
       "3         SAN                  Banco Santander, S.A.      70.46B   \n",
       "4        BBVA  Banco Bilbao Vizcaya Argentaria, S.A.      55.06B   \n",
       "\n",
       "   Precio Stock Delta Valor  \n",
       "0         55.82       0.07%  \n",
       "1        155.58      -0.08%  \n",
       "2         13.45      -0.48%  \n",
       "3          4.64      -0.79%  \n",
       "4          9.55      -0.81%  "
      ]
     },
     "execution_count": 13,
     "metadata": {},
     "output_type": "execute_result"
    }
   ],
   "source": [
    "df = pd.read_csv(('output/spain_stocks.csv'))\n",
    "df.drop(df.columns[0], axis=1, inplace=True)\n",
    "df.head()"
   ]
  },
  {
   "cell_type": "code",
   "execution_count": null,
   "metadata": {},
   "outputs": [],
   "source": []
  }
 ],
 "metadata": {
  "kernelspec": {
   "display_name": "Python 3",
   "language": "python",
   "name": "python3"
  },
  "language_info": {
   "codemirror_mode": {
    "name": "ipython",
    "version": 3
   },
   "file_extension": ".py",
   "mimetype": "text/x-python",
   "name": "python",
   "nbconvert_exporter": "python",
   "pygments_lexer": "ipython3",
   "version": "3.12.3"
  }
 },
 "nbformat": 4,
 "nbformat_minor": 2
}
